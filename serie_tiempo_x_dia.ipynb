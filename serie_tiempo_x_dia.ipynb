{
 "cells": [
  {
   "cell_type": "code",
   "execution_count": 36,
   "id": "3a5d942e",
   "metadata": {
    "ExecuteTime": {
     "end_time": "2022-01-27T18:03:22.362336Z",
     "start_time": "2022-01-27T18:03:22.343389Z"
    }
   },
   "outputs": [
    {
     "data": {
      "text/plain": [
       "'\\nGraficar serie de tiempo por dia\\n\\n'"
      ]
     },
     "execution_count": 36,
     "metadata": {},
     "output_type": "execute_result"
    }
   ],
   "source": [
    "'''\n",
    "Graficar serie de tiempo por dia\n",
    "\n",
    "'''"
   ]
  },
  {
   "cell_type": "code",
   "execution_count": 37,
   "id": "d28b6b3a",
   "metadata": {
    "ExecuteTime": {
     "end_time": "2022-01-27T18:03:22.393282Z",
     "start_time": "2022-01-27T18:03:22.365330Z"
    }
   },
   "outputs": [],
   "source": [
    "#%matplotlib qt5\n",
    "#%matplotlib inline\n",
    "#para hacer el grafico animado\n",
    "%matplotlib qt5\n",
    "\n",
    "import matplotlib as mpl\n",
    "from mpl_toolkits.mplot3d import Axes3D\n",
    "import matplotlib.pyplot as plt\n",
    "import matplotlib.colors as colors\n",
    "import seaborn as sns; sns.set()\n",
    "\n",
    "import pandas as pd\n",
    "import numpy as np\n",
    "\n",
    "\n",
    "import datetime\n",
    "from calendar import monthrange #para saber cuantos dias tiene el mes\n",
    "\n",
    "import ipynb.fs.defs.my_funcs_clusters as myfunc\n"
   ]
  },
  {
   "cell_type": "code",
   "execution_count": 38,
   "id": "78f04b2d",
   "metadata": {
    "ExecuteTime": {
     "end_time": "2022-01-27T18:03:29.800482Z",
     "start_time": "2022-01-27T18:03:22.395248Z"
    }
   },
   "outputs": [],
   "source": [
    "rutaxls = 'C:/Users/mungu/Documents/DatosWTG.xlsx'\n",
    "rutaxlsCPot = 'C:/Users/mungu/Dropbox/Doctorado/Python/aero/Curva de potencia vestas 90.xlsx'\n",
    "#rutaxls = 'C:/Users/mungu/Documents/DatosWTG.xlsx'\n",
    "#rutaxlsCPot = 'Curva de potencia vestas 90.xlsx'\n",
    "\n",
    "dataVPxls = pd.read_excel(rutaxls,usecols=[0,1,2],index_col=0,names=['PCTimeStamp','vViento','Pacw'])\n",
    "dfCPot = pd.read_excel(rutaxlsCPot,usecols=[0,2],index_col=0,names=['vel','pw'])\n",
    "\n",
    "#marcando los datos faltantes asignando un nan a la fila completa\n",
    "datamk = dataVPxls\n",
    "datamk.loc[datamk.isnull().any(axis=1), :] = np.nan\n",
    "\n",
    "#eliminando filas con NaN. Si busco la fecha anterior debe aparecer error.\n",
    "cleanData = datamk.dropna()\n",
    "\n",
    "###calculando la potencia\n",
    "#la pontencia del archivo de excel es la densidad de potencia acumulada.\n",
    "#Se tiene que hacer la resta de la potencia siguiente a la anterio y multiplicar por pi*r^2\n",
    "#el radio es 45m\n",
    "#si se hace la resta con un array de numpy (values) si se puede restar \n",
    "#pues se hace elemento por elemento\n",
    "dataVP = cleanData.drop('Pacw',axis=1)\n",
    "dataVP['Pw']= (cleanData.iloc[1:,1].values-cleanData.iloc[0:-1,1]) * np.pi*45**2\n",
    "\n",
    "#eliminar el ultimo valor pues es NaN\n",
    "dataVP.drop(dataVP.tail(1).index,inplace=True) \n",
    "\n",
    "#Eliminando outliers\n",
    "dataVP.drop([pd.to_datetime('2016-03-07 09:50:00')],inplace=True)\n",
    "\n",
    "#leyendo la direccion del viento\n",
    "dataDirVxls = pd.read_excel(rutaxls,sheet_name=1, usecols=[0,1],index_col=0,names=['PCTimeStamp','Dir'])\n",
    "#limpiando datos\n",
    "#marcando los datos faltantes asignando un nan a la fila completa\n",
    "datamkdir = dataDirVxls\n",
    "datamkdir.loc[datamkdir.isnull().any(axis=1), :] = np.nan\n",
    "#eliminando filas con NaN. Si busco la fecha anterior debe aparecer error.\n",
    "#tambien elimino el ultimo valor como lo hice en los datos de v y p\n",
    "#el copy es para que no me de la copy warning\n",
    "dataDir = datamkdir.dropna().copy()\n",
    "dataDir.drop(dataDir.tail(1).index,inplace=True) \n",
    "#eliminando del outlier de viento misma fecha que el de la pontencia\n",
    "dataDir.drop([pd.to_datetime('2016-03-07 09:50:00')],inplace=True)\n",
    "\n",
    "direcvrad= np.deg2rad(dataDir['Dir'].values)\n",
    "velocidades = dataVP.iloc[:]['vViento'].values\n",
    "vecVel = [-np.sin(direcvrad)*velocidades,np.cos(direcvrad)*velocidades]\n",
    "vecVelnp=np.array(vecVel).transpose()\n",
    "#original sin timestamp\n",
    "#dfVecVel = pd.DataFrame(data=vecVelnp,columns=['vx','vy']\n",
    "#con timestamp\n",
    "dfVecVel = pd.DataFrame(data=vecVelnp,columns=['vx','vy'],index=dataVP.index)"
   ]
  },
  {
   "cell_type": "code",
   "execution_count": 39,
   "id": "24aab6e8",
   "metadata": {
    "ExecuteTime": {
     "end_time": "2022-01-27T18:03:29.815397Z",
     "start_time": "2022-01-27T18:03:29.803429Z"
    }
   },
   "outputs": [
    {
     "name": "stdout",
     "output_type": "stream",
     "text": [
      "                     vViento            Pw\n",
      "PCTimeStamp                               \n",
      "2016-01-05 00:00:00     16.6  2.061199e+06\n",
      "2016-01-05 00:10:00     18.1  2.023029e+06\n",
      "2016-01-05 00:20:00     17.4  1.946688e+06\n",
      "2016-01-05 00:30:00     20.1  1.959411e+06\n",
      "2016-01-05 00:40:00     19.1  2.010305e+06\n",
      "...                      ...           ...\n",
      "2016-01-05 23:10:00     12.9  1.997582e+06\n",
      "2016-01-05 23:20:00     13.5  2.010305e+06\n",
      "2016-01-05 23:30:00     14.0  1.844900e+06\n",
      "2016-01-05 23:40:00     12.4  1.870347e+06\n",
      "2016-01-05 23:50:00     12.6  2.035752e+06\n",
      "\n",
      "[144 rows x 2 columns]\n"
     ]
    }
   ],
   "source": [
    "\n",
    "f_ini=datetime.datetime(2016, 1, 5,0,0)\n",
    "\n",
    "f_fin=datetime.datetime(2016, 1, 5,23,59)\n",
    " \n",
    "print(dataVP.loc[f_ini:f_fin])"
   ]
  },
  {
   "cell_type": "code",
   "execution_count": 40,
   "id": "7f8c4f72",
   "metadata": {
    "ExecuteTime": {
     "end_time": "2022-01-27T18:03:30.264195Z",
     "start_time": "2022-01-27T18:03:29.998905Z"
    },
    "scrolled": false
   },
   "outputs": [
    {
     "name": "stderr",
     "output_type": "stream",
     "text": [
      "C:\\Users\\mungu\\AppData\\Local\\Temp/ipykernel_49756/3556777336.py:30: UserWarning: Tight layout not applied. The left and right margins cannot be made large enough to accommodate all axes decorations. \n",
      "  plt.tight_layout()\n"
     ]
    }
   ],
   "source": [
    "# make 3d axes\n",
    "fig = plt.figure()\n",
    "ax = plt.axes(projection='3d') \n",
    "# test data\n",
    "x =dataVP.loc[f_ini:f_fin].vViento.values\n",
    "y = range(len(x))\n",
    "z = 1\n",
    "\n",
    "\n",
    "# plot test data\n",
    "ax.plot(x, y, z,linewidth=1)\n",
    "\n",
    "\n",
    "# make labels\n",
    "ax.set_xlabel('X')\n",
    "ax.set_ylabel('Y')\n",
    "ax.set_zlabel('Z')\n",
    "ax.view_init(elev=-90,azim=2)\n",
    "# make labels\n",
    "ax.set_xlabel('Velocidad')\n",
    "ax.set_ylabel('Hora')\n",
    "ax.set_zlabel('Dia')\n",
    "plt.xticks(np.arange(0, max(dataVP.vViento.values)+1, 1.0))\n",
    "hticks = np.arange(0,145,6)\n",
    "hval = l/6\n",
    "plt.yticks(hticks,hval.astype(int),rotation=45)\n",
    "\n",
    "plt.yticks()\n",
    "plt.show()\n",
    "plt.tight_layout()\n",
    "\n",
    "\n",
    "\n",
    "\n"
   ]
  },
  {
   "cell_type": "code",
   "execution_count": 41,
   "id": "d212c293",
   "metadata": {
    "ExecuteTime": {
     "end_time": "2022-01-27T18:03:30.402825Z",
     "start_time": "2022-01-27T18:03:30.384893Z"
    }
   },
   "outputs": [
    {
     "data": {
      "text/plain": [
       "array([ 0.,  1.,  2.,  3.,  4.,  5.,  6.,  7.,  8.,  9., 10., 11., 12.,\n",
       "       13., 14., 15., 16., 17., 18., 19., 20., 21., 22., 23., 24.])"
      ]
     },
     "execution_count": 41,
     "metadata": {},
     "output_type": "execute_result"
    }
   ],
   "source": [
    "l/6"
   ]
  },
  {
   "cell_type": "markdown",
   "id": "4822c478",
   "metadata": {},
   "source": [
    "# Gráfica de todos los días (viento)"
   ]
  },
  {
   "cell_type": "code",
   "execution_count": 42,
   "id": "ce035120",
   "metadata": {
    "ExecuteTime": {
     "end_time": "2022-01-27T18:03:31.184771Z",
     "start_time": "2022-01-27T18:03:30.404819Z"
    }
   },
   "outputs": [
    {
     "name": "stderr",
     "output_type": "stream",
     "text": [
      "C:\\Users\\mungu\\AppData\\Local\\Temp/ipykernel_49756/3076359811.py:31: UserWarning: Tight layout not applied. The left and right margins cannot be made large enough to accommodate all axes decorations. \n",
      "  plt.tight_layout()\n"
     ]
    }
   ],
   "source": [
    "#RANGO DE FECHAS (un año exacto, 360 días, por fuerza, para que poner mas dias?)\n",
    "f_ini=datetime.datetime(2016, 1, 1,0,0)\n",
    "f_fin = f_ini +datetime.timedelta(days=1)\n",
    "fig = plt.figure()\n",
    "ax = plt.axes(projection='3d') \n",
    "  \n",
    "for i in range(359):\n",
    "    \n",
    "    # make 3d axes\n",
    "    x =dataVP.loc[f_ini:f_fin].vViento.values\n",
    "    y = range(len(x))\n",
    "    z = i\n",
    "    f_ini=f_fin\n",
    "    f_fin += datetime.timedelta(days=1)\n",
    "\n",
    "    # plot test data\n",
    "    ax.plot(x, y, z,linewidth=1)\n",
    "\n",
    "ax.view_init(elev=-90,azim=2)\n",
    "# make labels\n",
    "ax.set_xlabel('Velocidad')\n",
    "ax.set_ylabel('Hora')\n",
    "ax.set_zlabel('Dia')\n",
    "plt.xticks(np.arange(0, max(dataVP.vViento.values)+1, 1.0))\n",
    "hticks = np.arange(0,145,6)\n",
    "hval = l/6\n",
    "plt.yticks(hticks,hval.astype(int),rotation=45)\n",
    "\n",
    "plt.yticks()\n",
    "plt.show()\n",
    "plt.tight_layout()\n",
    "\n"
   ]
  },
  {
   "cell_type": "markdown",
   "id": "54a539a5",
   "metadata": {
    "ExecuteTime": {
     "end_time": "2022-01-26T23:12:06.826879Z",
     "start_time": "2022-01-26T23:12:06.814913Z"
    }
   },
   "source": [
    "# Gráfica mes por mes (viento)"
   ]
  },
  {
   "cell_type": "code",
   "execution_count": 48,
   "id": "06b7ec90",
   "metadata": {
    "ExecuteTime": {
     "end_time": "2022-01-27T18:13:27.273233Z",
     "start_time": "2022-01-27T18:13:26.958079Z"
    },
    "scrolled": false
   },
   "outputs": [
    {
     "name": "stderr",
     "output_type": "stream",
     "text": [
      "C:\\Users\\mungu\\AppData\\Local\\Temp/ipykernel_49756/63167498.py:37: UserWarning: Tight layout not applied. The left and right margins cannot be made large enough to accommodate all axes decorations. \n",
      "  plt.tight_layout()\n"
     ]
    }
   ],
   "source": [
    "#mes a graficar\n",
    "mes= 9\n",
    "anio = 2016\n",
    "\n",
    "#RANGO DE FECHAS (un año exacto, 360 días, por fuerza, para que poner mas dias?)\n",
    "f_ini=datetime.datetime(anio, mes, 1,0,0)\n",
    "f_fin = f_ini +datetime.timedelta(days=1)\n",
    "fig = plt.figure()\n",
    "ax = plt.axes(projection='3d') \n",
    "#dias en el mes\n",
    "num_dias = monthrange(anio,mes)[1]\n",
    "for i in range(num_dias):\n",
    "    \n",
    "    # make 3d axes\n",
    "    x =dataVP.loc[f_ini:f_fin].vViento.values\n",
    "    y = range(len(x))\n",
    "    z = i\n",
    "    f_ini=f_fin\n",
    "    f_fin += datetime.timedelta(days=1)\n",
    "\n",
    "    # plot test data\n",
    "    ax.plot(x, y, z,linewidth=1)\n",
    "    \n",
    "ax.view_init(elev=-90,azim=2)\n",
    "# make labels\n",
    "ax.set_xlabel('Velocidad')\n",
    "ax.set_ylabel('Hora')\n",
    "ax.set_zlabel('Dia')\n",
    "plt.xticks(np.arange(0, max(dataVP.vViento.values)+1, 1.0))\n",
    "hticks = np.arange(0,145,6)\n",
    "hval = l/6\n",
    "plt.yticks(hticks,hval.astype(int),rotation=45)\n",
    "\n",
    "plt.yticks()\n",
    "plt.show()\n",
    "plt.tight_layout()\n",
    "\n"
   ]
  },
  {
   "cell_type": "code",
   "execution_count": 44,
   "id": "3d471254",
   "metadata": {
    "ExecuteTime": {
     "end_time": "2022-01-27T18:03:31.464177Z",
     "start_time": "2022-01-27T18:03:31.451183Z"
    }
   },
   "outputs": [
    {
     "data": {
      "text/plain": [
       "array([ 0.,  1.,  2.,  3.,  4.,  5.,  6.,  7.,  8.,  9., 10., 11., 12.,\n",
       "       13.])"
      ]
     },
     "execution_count": 44,
     "metadata": {},
     "output_type": "execute_result"
    }
   ],
   "source": [
    "np.arange(0, max(x)+1, 1.0)"
   ]
  }
 ],
 "metadata": {
  "hide_input": false,
  "kernelspec": {
   "display_name": "Python 3 (ipykernel)",
   "language": "python",
   "name": "python3"
  },
  "language_info": {
   "codemirror_mode": {
    "name": "ipython",
    "version": 3
   },
   "file_extension": ".py",
   "mimetype": "text/x-python",
   "name": "python",
   "nbconvert_exporter": "python",
   "pygments_lexer": "ipython3",
   "version": "3.9.7"
  }
 },
 "nbformat": 4,
 "nbformat_minor": 5
}
